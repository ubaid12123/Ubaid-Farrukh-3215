{
 "cells": [
  {
   "cell_type": "code",
   "execution_count": 1,
   "metadata": {},
   "outputs": [
    {
     "name": "stdout",
     "output_type": "stream",
     "text": [
      "table X 1 = 8\n",
      "table X 2 = 16\n",
      "table X 3 = 24\n",
      "table X 4 = 32\n",
      "table X 5 = 40\n",
      "table X 6 = 48\n",
      "table X 7 = 56\n",
      "table X 8 = 64\n",
      "table X 9 = 72\n",
      "table X 10 = 80\n",
      "table X 11 = 88\n",
      "table X 12 = 96\n",
      "table X 13 = 104\n",
      "table X 14 = 112\n",
      "table X 15 = 120\n",
      "table X 16 = 128\n",
      "table X 17 = 136\n",
      "table X 18 = 144\n",
      "table X 19 = 152\n"
     ]
    }
   ],
   "source": [
    "table = 8\n",
    "\n",
    "\n",
    "for i in range(1 , 20):\n",
    "    print('table' , 'X' , i , '=' , table * i)"
   ]
  },
  {
   "cell_type": "code",
   "execution_count": null,
   "metadata": {},
   "outputs": [],
   "source": []
  }
 ],
 "metadata": {
  "kernelspec": {
   "display_name": "Python 3",
   "language": "python",
   "name": "python3"
  },
  "language_info": {
   "codemirror_mode": {
    "name": "ipython",
    "version": 3
   },
   "file_extension": ".py",
   "mimetype": "text/x-python",
   "name": "python",
   "nbconvert_exporter": "python",
   "pygments_lexer": "ipython3",
   "version": "3.8.5"
  }
 },
 "nbformat": 4,
 "nbformat_minor": 4
}
